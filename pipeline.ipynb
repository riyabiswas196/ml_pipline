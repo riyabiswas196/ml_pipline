{
  "nbformat": 4,
  "nbformat_minor": 0,
  "metadata": {
    "colab": {
      "provenance": [],
      "authorship_tag": "ABX9TyMEn9WsPMRS4twc6UDJug7w",
      "include_colab_link": true
    },
    "kernelspec": {
      "name": "python3",
      "display_name": "Python 3"
    },
    "language_info": {
      "name": "python"
    }
  },
  "cells": [
    {
      "cell_type": "markdown",
      "metadata": {
        "id": "view-in-github",
        "colab_type": "text"
      },
      "source": [
        "<a href=\"https://colab.research.google.com/github/riyabiswas196/ml_pipline/blob/main/pipeline.ipynb\" target=\"_parent\"><img src=\"https://colab.research.google.com/assets/colab-badge.svg\" alt=\"Open In Colab\"/></a>"
      ]
    },
    {
      "cell_type": "code",
      "execution_count": 1,
      "metadata": {
        "id": "sokwWW56vZxm"
      },
      "outputs": [],
      "source": [
        "import json\n",
        "import pandas as pd\n",
        "import numpy as np\n",
        "from sklearn.model_selection import train_test_split\n",
        "from sklearn.preprocessing import StandardScaler\n",
        "from sklearn.decomposition import PCA\n",
        "from sklearn.feature_extraction.text import CountVectorizer\n",
        "from sklearn.linear_model import LinearRegression, LogisticRegression, Lasso, Ridge, ElasticNet, SGDClassifier\n",
        "from xgboost import XGBRegressor\n",
        "from sklearn.tree import DecisionTreeRegressor, DecisionTreeClassifier\n",
        "from sklearn.ensemble import RandomForestClassifier, RandomForestRegressor, GradientBoostingRegressor, GradientBoostingClassifier, ExtraTreesClassifier\n",
        "from sklearn.neural_network import MLPClassifier\n",
        "from sklearn.svm import SVC\n",
        "from sklearn.neighbors import KNeighborsClassifier\n",
        "from sklearn.model_selection import GridSearchCV\n",
        "from sklearn.pipeline import Pipeline\n",
        "from sklearn.metrics import mean_squared_error, r2_score, roc_auc_score, classification_report\n"
      ]
    },
    {
      "cell_type": "code",
      "source": [
        "df=pd.read_csv(\"iris.csv\")\n",
        "df.head(5)"
      ],
      "metadata": {
        "colab": {
          "base_uri": "https://localhost:8080/",
          "height": 206
        },
        "id": "r_83g7TSJifb",
        "outputId": "ebc0eee6-09f5-4db6-8e34-3a61c88c02e5"
      },
      "execution_count": 2,
      "outputs": [
        {
          "output_type": "execute_result",
          "data": {
            "text/plain": [
              "   sepal_length  sepal_width  petal_length  petal_width      species\n",
              "0           5.1          3.5           1.4          0.2  Iris-setosa\n",
              "1           4.9          3.0           1.4          0.2  Iris-setosa\n",
              "2           4.7          3.2           1.3          0.2  Iris-setosa\n",
              "3           4.6          3.1           1.5          0.2  Iris-setosa\n",
              "4           5.0          3.6           1.4          0.2  Iris-setosa"
            ],
            "text/html": [
              "\n",
              "  <div id=\"df-eedeedee-f533-475a-b473-f9d23c521b3e\" class=\"colab-df-container\">\n",
              "    <div>\n",
              "<style scoped>\n",
              "    .dataframe tbody tr th:only-of-type {\n",
              "        vertical-align: middle;\n",
              "    }\n",
              "\n",
              "    .dataframe tbody tr th {\n",
              "        vertical-align: top;\n",
              "    }\n",
              "\n",
              "    .dataframe thead th {\n",
              "        text-align: right;\n",
              "    }\n",
              "</style>\n",
              "<table border=\"1\" class=\"dataframe\">\n",
              "  <thead>\n",
              "    <tr style=\"text-align: right;\">\n",
              "      <th></th>\n",
              "      <th>sepal_length</th>\n",
              "      <th>sepal_width</th>\n",
              "      <th>petal_length</th>\n",
              "      <th>petal_width</th>\n",
              "      <th>species</th>\n",
              "    </tr>\n",
              "  </thead>\n",
              "  <tbody>\n",
              "    <tr>\n",
              "      <th>0</th>\n",
              "      <td>5.1</td>\n",
              "      <td>3.5</td>\n",
              "      <td>1.4</td>\n",
              "      <td>0.2</td>\n",
              "      <td>Iris-setosa</td>\n",
              "    </tr>\n",
              "    <tr>\n",
              "      <th>1</th>\n",
              "      <td>4.9</td>\n",
              "      <td>3.0</td>\n",
              "      <td>1.4</td>\n",
              "      <td>0.2</td>\n",
              "      <td>Iris-setosa</td>\n",
              "    </tr>\n",
              "    <tr>\n",
              "      <th>2</th>\n",
              "      <td>4.7</td>\n",
              "      <td>3.2</td>\n",
              "      <td>1.3</td>\n",
              "      <td>0.2</td>\n",
              "      <td>Iris-setosa</td>\n",
              "    </tr>\n",
              "    <tr>\n",
              "      <th>3</th>\n",
              "      <td>4.6</td>\n",
              "      <td>3.1</td>\n",
              "      <td>1.5</td>\n",
              "      <td>0.2</td>\n",
              "      <td>Iris-setosa</td>\n",
              "    </tr>\n",
              "    <tr>\n",
              "      <th>4</th>\n",
              "      <td>5.0</td>\n",
              "      <td>3.6</td>\n",
              "      <td>1.4</td>\n",
              "      <td>0.2</td>\n",
              "      <td>Iris-setosa</td>\n",
              "    </tr>\n",
              "  </tbody>\n",
              "</table>\n",
              "</div>\n",
              "    <div class=\"colab-df-buttons\">\n",
              "\n",
              "  <div class=\"colab-df-container\">\n",
              "    <button class=\"colab-df-convert\" onclick=\"convertToInteractive('df-eedeedee-f533-475a-b473-f9d23c521b3e')\"\n",
              "            title=\"Convert this dataframe to an interactive table.\"\n",
              "            style=\"display:none;\">\n",
              "\n",
              "  <svg xmlns=\"http://www.w3.org/2000/svg\" height=\"24px\" viewBox=\"0 -960 960 960\">\n",
              "    <path d=\"M120-120v-720h720v720H120Zm60-500h600v-160H180v160Zm220 220h160v-160H400v160Zm0 220h160v-160H400v160ZM180-400h160v-160H180v160Zm440 0h160v-160H620v160ZM180-180h160v-160H180v160Zm440 0h160v-160H620v160Z\"/>\n",
              "  </svg>\n",
              "    </button>\n",
              "\n",
              "  <style>\n",
              "    .colab-df-container {\n",
              "      display:flex;\n",
              "      gap: 12px;\n",
              "    }\n",
              "\n",
              "    .colab-df-convert {\n",
              "      background-color: #E8F0FE;\n",
              "      border: none;\n",
              "      border-radius: 50%;\n",
              "      cursor: pointer;\n",
              "      display: none;\n",
              "      fill: #1967D2;\n",
              "      height: 32px;\n",
              "      padding: 0 0 0 0;\n",
              "      width: 32px;\n",
              "    }\n",
              "\n",
              "    .colab-df-convert:hover {\n",
              "      background-color: #E2EBFA;\n",
              "      box-shadow: 0px 1px 2px rgba(60, 64, 67, 0.3), 0px 1px 3px 1px rgba(60, 64, 67, 0.15);\n",
              "      fill: #174EA6;\n",
              "    }\n",
              "\n",
              "    .colab-df-buttons div {\n",
              "      margin-bottom: 4px;\n",
              "    }\n",
              "\n",
              "    [theme=dark] .colab-df-convert {\n",
              "      background-color: #3B4455;\n",
              "      fill: #D2E3FC;\n",
              "    }\n",
              "\n",
              "    [theme=dark] .colab-df-convert:hover {\n",
              "      background-color: #434B5C;\n",
              "      box-shadow: 0px 1px 3px 1px rgba(0, 0, 0, 0.15);\n",
              "      filter: drop-shadow(0px 1px 2px rgba(0, 0, 0, 0.3));\n",
              "      fill: #FFFFFF;\n",
              "    }\n",
              "  </style>\n",
              "\n",
              "    <script>\n",
              "      const buttonEl =\n",
              "        document.querySelector('#df-eedeedee-f533-475a-b473-f9d23c521b3e button.colab-df-convert');\n",
              "      buttonEl.style.display =\n",
              "        google.colab.kernel.accessAllowed ? 'block' : 'none';\n",
              "\n",
              "      async function convertToInteractive(key) {\n",
              "        const element = document.querySelector('#df-eedeedee-f533-475a-b473-f9d23c521b3e');\n",
              "        const dataTable =\n",
              "          await google.colab.kernel.invokeFunction('convertToInteractive',\n",
              "                                                    [key], {});\n",
              "        if (!dataTable) return;\n",
              "\n",
              "        const docLinkHtml = 'Like what you see? Visit the ' +\n",
              "          '<a target=\"_blank\" href=https://colab.research.google.com/notebooks/data_table.ipynb>data table notebook</a>'\n",
              "          + ' to learn more about interactive tables.';\n",
              "        element.innerHTML = '';\n",
              "        dataTable['output_type'] = 'display_data';\n",
              "        await google.colab.output.renderOutput(dataTable, element);\n",
              "        const docLink = document.createElement('div');\n",
              "        docLink.innerHTML = docLinkHtml;\n",
              "        element.appendChild(docLink);\n",
              "      }\n",
              "    </script>\n",
              "  </div>\n",
              "\n",
              "\n",
              "<div id=\"df-b59a9a94-74b8-440e-801f-c1e46764f3eb\">\n",
              "  <button class=\"colab-df-quickchart\" onclick=\"quickchart('df-b59a9a94-74b8-440e-801f-c1e46764f3eb')\"\n",
              "            title=\"Suggest charts.\"\n",
              "            style=\"display:none;\">\n",
              "\n",
              "<svg xmlns=\"http://www.w3.org/2000/svg\" height=\"24px\"viewBox=\"0 0 24 24\"\n",
              "     width=\"24px\">\n",
              "    <g>\n",
              "        <path d=\"M19 3H5c-1.1 0-2 .9-2 2v14c0 1.1.9 2 2 2h14c1.1 0 2-.9 2-2V5c0-1.1-.9-2-2-2zM9 17H7v-7h2v7zm4 0h-2V7h2v10zm4 0h-2v-4h2v4z\"/>\n",
              "    </g>\n",
              "</svg>\n",
              "  </button>\n",
              "\n",
              "<style>\n",
              "  .colab-df-quickchart {\n",
              "    background-color: #E8F0FE;\n",
              "    border: none;\n",
              "    border-radius: 50%;\n",
              "    cursor: pointer;\n",
              "    display: none;\n",
              "    fill: #1967D2;\n",
              "    height: 32px;\n",
              "    padding: 0 0 0 0;\n",
              "    width: 32px;\n",
              "  }\n",
              "\n",
              "  .colab-df-quickchart:hover {\n",
              "    background-color: #E2EBFA;\n",
              "    box-shadow: 0px 1px 2px rgba(60, 64, 67, 0.3), 0px 1px 3px 1px rgba(60, 64, 67, 0.15);\n",
              "    fill: #174EA6;\n",
              "  }\n",
              "\n",
              "  [theme=dark] .colab-df-quickchart {\n",
              "    background-color: #3B4455;\n",
              "    fill: #D2E3FC;\n",
              "  }\n",
              "\n",
              "  [theme=dark] .colab-df-quickchart:hover {\n",
              "    background-color: #434B5C;\n",
              "    box-shadow: 0px 1px 3px 1px rgba(0, 0, 0, 0.15);\n",
              "    filter: drop-shadow(0px 1px 2px rgba(0, 0, 0, 0.3));\n",
              "    fill: #FFFFFF;\n",
              "  }\n",
              "</style>\n",
              "\n",
              "  <script>\n",
              "    async function quickchart(key) {\n",
              "      const charts = await google.colab.kernel.invokeFunction(\n",
              "          'suggestCharts', [key], {});\n",
              "    }\n",
              "    (() => {\n",
              "      let quickchartButtonEl =\n",
              "        document.querySelector('#df-b59a9a94-74b8-440e-801f-c1e46764f3eb button');\n",
              "      quickchartButtonEl.style.display =\n",
              "        google.colab.kernel.accessAllowed ? 'block' : 'none';\n",
              "    })();\n",
              "  </script>\n",
              "</div>\n",
              "    </div>\n",
              "  </div>\n"
            ]
          },
          "metadata": {},
          "execution_count": 2
        }
      ]
    },
    {
      "cell_type": "code",
      "source": [
        "f= open(\"algoparams_from_ui.json\",\"r\")\n",
        "json_data= json.load(f)\n",
        "data= json_data[\"design_state_data\"]\n",
        "target = data[\"target\"][\"target\"]\n",
        "\n",
        "prediction_type = data[\"target\"][\"prediction_type\"]\n"
      ],
      "metadata": {
        "id": "IzG05vESElh_"
      },
      "execution_count": 3,
      "outputs": []
    },
    {
      "cell_type": "code",
      "source": [
        "features = data[\"feature_handling\"]\n",
        "f_names=[]\n",
        "\n",
        "for name, details in features.items():\n",
        "  f_names.append(name)\n",
        "  if details[\"feature_name\"]==\"species\":\n",
        "        continue\n",
        "  if details[\"feature_details\"][\"missing_values\"] == \"Impute\":\n",
        "    if details[\"feature_details\"][\"impute_with\"] == \"Average of values\":\n",
        "      df[name].fillna(df[name].mean(), inplace=True)\n",
        "    elif details[\"feature_details\"][\"impute_with\"] == \"Median of values\":\n",
        "      df[name].fillna(df[name].median(), inplace=True)\n",
        "    elif details[\"feature_details\"][\"impute_with\"] == \"Mode of values\":\n",
        "      df[name].fillna(df[name].mode()[0], inplace=True)\n",
        "print(f_names)\n"
      ],
      "metadata": {
        "colab": {
          "base_uri": "https://localhost:8080/"
        },
        "id": "2WXeSd-oVAIc",
        "outputId": "41a0e498-c763-47ec-8430-33ba10ad1863"
      },
      "execution_count": 4,
      "outputs": [
        {
          "output_type": "stream",
          "name": "stdout",
          "text": [
            "['sepal_length', 'sepal_width', 'petal_length', 'petal_width', 'species']\n"
          ]
        }
      ]
    },
    {
      "cell_type": "code",
      "source": [
        "df.describe()"
      ],
      "metadata": {
        "id": "jwKjYYs-XG0z"
      },
      "execution_count": null,
      "outputs": []
    },
    {
      "cell_type": "code",
      "source": [
        "df.isnull().sum()"
      ],
      "metadata": {
        "id": "6tmh4C56XPmd"
      },
      "execution_count": null,
      "outputs": []
    },
    {
      "cell_type": "code",
      "source": [
        "feature_reduction = data[\"feature_reduction\"]\n",
        "if type(feature_reduction[\"depth_of_trees\"])!=\"list\":\n",
        "  depth_of_trees = int(feature_reduction[\"depth_of_trees\"])\n",
        "  max_depth_list = []\n",
        "  max_depth_list.append(depth_of_trees)\n",
        "if type(feature_reduction[\"num_of_features_to_keep\"])!=\"list\":\n",
        "  max_features=int(feature_reduction[\"num_of_features_to_keep\"])\n",
        "  max_feat=[]\n",
        "  max_feat.append(max_features)\n",
        "\n",
        "if feature_reduction[\"feature_reduction_method\"] == \"No Reduction\":\n",
        "    X = df[f_names]\n",
        "\n",
        "elif feature_reduction[\"feature_reduction_method\"] == \"Corr with Target\":\n",
        "    X = df[f_names].corrwith(df[target]).abs().sort_values(ascending=False).head(10).index.tolist()\n",
        "\n",
        "elif feature_reduction[\"feature_reduction_method\"] == \"Tree-based\":\n",
        "    X = df[f_names].corrwith(df[target], numeric_only=True).abs().sort_values(ascending=False).head(10).index.tolist()\n",
        "    tree_regressor = DecisionTreeRegressor()\n",
        "    tree_regressor_params = {\"max_depth\":max_depth_list,\"max_features\":max_feat,\"random_state\":[1]}\n",
        "    tree_regressor_grid = GridSearchCV(tree_regressor, tree_regressor_params, cv=5)\n",
        "    tree_regressor_grid.fit(df[X], df[target])\n",
        "    X = tree_regressor_grid.best_estimator_.feature_importances_.argsort()[::-1][:10].tolist()\n",
        "\n",
        "elif feature_reduction[\"feature_reduction_method\"] == \"PCA\":\n",
        "    pca = PCA(n_components=max_feat[0],)\n",
        "    X = pca.fit_transform(df[f_names])\n"
      ],
      "metadata": {
        "id": "8rEPWAn3YYIk"
      },
      "execution_count": 5,
      "outputs": []
    },
    {
      "cell_type": "code",
      "source": [
        "df.isna().sum()"
      ],
      "metadata": {
        "id": "jfC3dO8U9xCx"
      },
      "execution_count": null,
      "outputs": []
    },
    {
      "cell_type": "code",
      "source": [
        "models=[]\n",
        "model_param_grid={\n",
        "    \"Random Forest Classifier\":{\n",
        "        \"n_estimators\": [data[\"algorithms\"][\"RandomForestClassifier\"][\"min_trees\"]],\n",
        "        \"max_depth\": [data[\"algorithms\"][\"RandomForestClassifier\"][\"max_depth\"]],\n",
        "        \"min_samples_leaf\": [data[\"algorithms\"][\"RandomForestClassifier\"][\"min_samples_per_leaf_min_value\"]],\n",
        "        \"n_jobs\": [data[\"algorithms\"][\"RandomForestClassifier\"][\"parallelism\"]]\n",
        "        },\n",
        "    \"Random Forest Regressor\": {\n",
        "        \"n_estimators\": [data[\"algorithms\"][\"RandomForestRegressor\"][\"min_trees\"]],\n",
        "        \"max_depth\": [data[\"algorithms\"][\"RandomForestRegressor\"][\"max_depth\"]],\n",
        "        \"min_samples_leaf\": [data[\"algorithms\"][\"RandomForestRegressor\"][\"min_samples_per_leaf_min_value\"]],\n",
        "        \"n_jobs\": [data[\"algorithms\"][\"RandomForestRegressor\"][\"parallelism\"]]\n",
        "        },\n",
        "    \"Gradient Boosting Classifier\":{\n",
        "        \"n_estimators\": [data[\"algorithms\"][\"GBTClassifier\"][\"num_of_BoostingStages\"][0]],\n",
        "        \"learning_rate\": [data[\"algorithms\"][\"GBTClassifier\"][\"learningRate\"]],\n",
        "        \"subsample\": [data[\"algorithms\"][\"GBTClassifier\"][\"min_subsample\"]],\n",
        "        \"min_samples_split\": [data[\"algorithms\"][\"GBTClassifier\"][\"min_depth\"]],\n",
        "        \"max_depth\": [data[\"algorithms\"][\"GBTClassifier\"][\"max_depth\"]]\n",
        "        },\n",
        "    \"Gradient Boosting Regressor\":{\n",
        "        \"n_estimators\": [data[\"algorithms\"][\"GBTRegressor\"][\"num_of_BoostingStages\"][0]],\n",
        "        \"subsample\": [data[\"algorithms\"][\"GBTRegressor\"][\"min_subsample\"]],\n",
        "        \"min_samples_split\": [data[\"algorithms\"][\"GBTRegressor\"][\"min_depth\"]],\n",
        "        \"max_depth\": [data[\"algorithms\"][\"GBTRegressor\"][\"max_depth\"]]\n",
        "        },\n",
        "    \"Linear Regression\" : [{\n",
        "        \"n_jobs\": [data[\"algorithms\"][\"LinearRegression\"][\"parallelism\"]],\n",
        "        \"reg_alpha\": [np.linspace(data[\"algorithms\"][\"LinearRegression\"][\"min_regparam\"], data[\"algorithms\"][\"LinearRegression\"][\"max_regparam\"], num=5)],\n",
        "        \"reg_lambda\": [np.linspace(data[\"algorithms\"][\"LinearRegression\"][\"min_elasticnet\"], data[\"algorithms\"][\"LinearRegression\"][\"max_elasticnet\"], num=5)],\n",
        "        \"max_iter\": [np.arange(data[\"algorithms\"][\"LinearRegression\"][\"min_iter\"], data[\"algorithms\"][\"LinearRegression\"][\"max_iter\"] + 1)]\n",
        "        }],\n",
        "    \"Logistic Regression\" : {\n",
        "        \"n_jobs\": [data[\"algorithms\"][\"LogisticRegression\"][\"parallelism\"]],\n",
        "        \"reg_alpha\": [np.linspace(data[\"algorithms\"][\"LogisticRegression\"][\"min_regparam\"], data[\"algorithms\"][\"LogisticRegression\"][\"max_regparam\"], num=5)],\n",
        "        \"reg_lambda\": [np.linspace(data[\"algorithms\"][\"LogisticRegression\"][\"min_elasticnet\"], data[\"algorithms\"][\"LogisticRegression\"][\"max_elasticnet\"], num=5)],\n",
        "        \"max_iter\": [np.arange(data[\"algorithms\"][\"LogisticRegression\"][\"min_iter\"], data[\"algorithms\"][\"LogisticRegression\"][\"max_iter\"] + 1)]\n",
        "        },\n",
        "    \"Ridge Regression\": {\n",
        "        \"reg_alpha\": [np.linspace(data[\"algorithms\"][\"RidgeRegression\"][\"min_regparam\"], data[\"algorithms\"][\"RidgeRegression\"][\"max_regparam\"], num=5)],\n",
        "        \"max_iter\": [np.arange(data[\"algorithms\"][\"RidgeRegression\"][\"min_iter\"], data[\"algorithms\"][\"RidgeRegression\"][\"max_iter\"] + 1)]\n",
        "        },\n",
        "    \"Lasso Regression\": {\n",
        "        \"reg_alpha\": [np.linspace(data[\"algorithms\"][\"LassoRegression\"][\"min_regparam\"], data[\"algorithms\"][\"LassoRegression\"][\"max_regparam\"], num=5)],\n",
        "        \"max_iter\": [np.arange(data[\"algorithms\"][\"LassoRegression\"][\"min_iter\"], data[\"algorithms\"][\"LassoRegression\"][\"max_iter\"] + 1)]\n",
        "        },\n",
        "    \"Elastic Net Regression\" : {\n",
        "        \"reg_alpha\": [np.linspace(data[\"algorithms\"][\"ElasticNetRegression\"][\"min_regparam\"], data[\"algorithms\"][\"ElasticNetRegression\"][\"max_regparam\"], num=5)],\n",
        "        \"reg_lambda\": [np.linspace(data[\"algorithms\"][\"ElasticNetRegression\"][\"min_elasticnet\"], data[\"algorithms\"][\"ElasticNetRegression\"][\"max_elasticnet\"], num=5)],\n",
        "        \"max_iter\": [np.arange(data[\"algorithms\"][\"ElasticNetRegression\"][\"min_iter\"], data[\"algorithms\"][\"ElasticNetRegression\"][\"max_iter\"] + 1)]\n",
        "        },\n",
        "    \"XGB Regressor\": {\n",
        "        \"objective\":\"reg:squarederror\",\n",
        "        \"use_label_encoder\": False,\n",
        "        \"random_state\": data[\"algorithms\"][\"xg_boost\"][\"random_state\"],\n",
        "        \"n_estimators\": [data[\"algorithms\"][\"xg_boost\"][\"parallelism\"]],\n",
        "        \"early_stopping_rounds\": [data[\"algorithms\"][\"xg_boost\"][\"early_stopping_rounds\"]],\n",
        "        \"max_depth\": [data[\"algorithms\"][\"xg_boost\"][\"max_depth_of_tree\"][0]],\n",
        "        \"learning_rate\": [data[\"algorithms\"][\"xg_boost\"][\"learningRate\"][0]],\n",
        "        \"reg_alpha\": [data[\"algorithms\"][\"xg_boost\"][\"l1_regularization\"][0]],\n",
        "        \"reg_lambda\": [data[\"algorithms\"][\"xg_boost\"][\"l2_regularization\"][0]],\n",
        "        \"gamma\": [data[\"algorithms\"][\"xg_boost\"][\"gamma\"][0]],\n",
        "        \"min_child_weight\": [data[\"algorithms\"][\"xg_boost\"][\"min_child_weight\"][0]],\n",
        "        \"subsample\": [data[\"algorithms\"][\"xg_boost\"][\"sub_sample\"][0]],\n",
        "        \"colsample_bytree\": [data[\"algorithms\"][\"xg_boost\"][\"col_sample_by_tree\"][0]],\n",
        "        },\n",
        "    \"Decision Tree Regressor\": {\n",
        "        \"criterion\":\"gini\" if data[\"algorithms\"][\"DecisionTreeRegressor\"][\"use_gini\"] else \"entropy\",\n",
        "        \"splitter\": \"best\" if data[\"algorithms\"][\"DecisionTreeRegressor\"][\"use_best\"] else \"random\",\n",
        "        \"min_samples_leaf\": [data[\"algorithms\"][\"DecisionTreeRegressor\"][\"min_samples_per_leaf\"]],\n",
        "        \"max_depth\": [data[\"algorithms\"][\"DecisionTreeRegressor\"][\"max_depth\"]]\n",
        "        },\n",
        "    \"Decision Tree Classifier\": {\n",
        "        \"criterion\":\"gini\" if data[\"algorithms\"][\"DecisionTreeClassifier\"][\"use_gini\"] else \"entropy\",\n",
        "        \"splitter\": \"best\" if data[\"algorithms\"][\"DecisionTreeClassifier\"][\"use_best\"] else \"random\",\n",
        "        \"min_samples_leaf\": [data[\"algorithms\"][\"DecisionTreeClassifier\"][\"min_samples_per_leaf\"]],\n",
        "        \"max_depth\": [data[\"algorithms\"][\"DecisionTreeClassifier\"][\"max_depth\"]]\n",
        "        },\n",
        "    \"Support Vector Machine\": {\n",
        "        \"kernel\": [\"linear\", \"rbf\", \"poly\", \"sigmoid\"],\n",
        "        \"C\": [data[\"algorithms\"][\"SVM\"][\"c_value\"]],\n",
        "        \"gamma\": [\"scale\", \"auto\"] if data[\"algorithms\"][\"SVM\"][\"rep_kernel\"]==\"true\" else [0.1],\n",
        "        \"tol\": [1e-7, 1e-6, 1e-5, 1e-4, 1e-3, 1e-2, 1e-1],\n",
        "        \"max_iter\": [data[\"algorithms\"][\"SVM\"][\"max_iterations\"]]\n",
        "        },\n",
        "    \"Stochastic Gradient Descent\" : {\n",
        "        \"loss\": \"log\" if data[\"algorithms\"][\"SGD\"][\"use_logistics\"] else \"hinge\",\n",
        "        \"penalty\": \"elasticnet\" if data[\"algorithms\"][\"SGD\"][\"use_elastic_net_regularization\"] else \"l2\",\n",
        "        \"reg_alpha\": [data[\"algorithms\"][\"SGD\"][\"alpha_value\"]],\n",
        "        \"reg_lambda\": 0.5,\n",
        "        \"max_iter\": [data[\"algorithms\"][\"SGD\"][\"max_iterations\"] if data[\"algorithms\"][\"SGD\"][\"max_iterations\"] else 1000],\n",
        "        \"tol\": [data[\"algorithms\"][\"SGD\"][\"tolerance\"]],\n",
        "        \"random_state\": 0,\n",
        "        \"n_jobs\": [data[\"algorithms\"][\"SGD\"][\"parallelism\"]]\n",
        "        },\n",
        "     \"KNN\": {\n",
        "        \"n_neighbors\": [data[\"algorithms\"][\"KNN\"][\"k_value\"][0]],\n",
        "        \"weights\": \"distance\" if data[\"algorithms\"][\"KNN\"][\"distance_weighting\"] else \"uniform\",\n",
        "        \"algorithm\": [data[\"algorithms\"][\"KNN\"][\"neighbour_finding_algorithm\"]],\n",
        "        \"p\": [data[\"algorithms\"][\"KNN\"][\"p_value\"]]\n",
        "        },\n",
        "    \"Extra Random Trees\": {\n",
        "        \"n_estimators\": [data[\"algorithms\"][\"extra_random_trees\"][\"num_of_trees\"]],\n",
        "        \"max_depth\": [data[\"algorithms\"][\"extra_random_trees\"][\"max_depth\"]],\n",
        "        \"min_samples_leaf\": [data[\"algorithms\"][\"extra_random_trees\"][\"min_samples_per_leaf\"]]\n",
        "        },\n",
        "    \"Neural Network\" : {\n",
        "        \"hidden_layer_sizes\": [data[\"algorithms\"][\"neural_network\"][\"hidden_layer_sizes\"]],\n",
        "        \"activation\": [\"relu\", \"tanh\"],\n",
        "        \"solver\": [\"adam\"],\n",
        "        \"early_stopping\": [True],\n",
        "        \"shuffle\": [True],\n",
        "        }\n",
        "\n",
        "}"
      ],
      "metadata": {
        "id": "vmiuDOMlKjfp"
      },
      "execution_count": 20,
      "outputs": []
    },
    {
      "cell_type": "code",
      "source": [
        "if data[\"target\"][\"prediction_type\"] == \"Regression\":\n",
        "    models.append((\"Linear Regression\", LinearRegression()))\n",
        "    models.append((\"Random Forest Regressor\", RandomForestRegressor()))\n",
        "    models.append((\"Gradient Boosting Regressor\", GradientBoostingRegressor()))\n",
        "    models.append((\"Ridge Regression\", Ridge()))\n",
        "    models.append((\"Lasso Regresstion\", Lasso()))\n",
        "    models.append((\"Elastic Net Regression\", ElasticNet()))\n",
        "    models.append((\"XGB Regressor\", XGBRegressor()))\n",
        "    models.append((\"Decision Tree Regressor\", DecisionTreeRegressor()))\n",
        "\n",
        "\n",
        "elif data[\"target\"][\"prediction_type\"] == \"Classification\":\n",
        "    models.append((\"Random Forest Classifier\", RandomForestClassifier()))\n",
        "    models.append((\"Gradient Boosting Classifier\", GradientBoostingClassifier()))\n",
        "    models.append((\"Logistic Regression\", LogisticRegression()))\n",
        "    models.append((\"Random Forest Classifier\", RandomForestClassifier()))\n",
        "    models.append((\"Decision Tree Classifier\", DecisionTreeClassifier()))\n",
        "    models.append((\"Support Vector Machine\", SVC()))\n",
        "    models.append((\"Stochastic Gradient Descent\",SGDClassifier()))\n",
        "    models.append((\"KNN\",KNeighborsClassifier()))\n",
        "    models.append((\"Extra Random Trees\",ExtraTreesClassifier()))\n",
        "    models.append((\"Neural Network\", MLPClassifier()))"
      ],
      "metadata": {
        "id": "4n1wh_2E9jvJ"
      },
      "execution_count": 18,
      "outputs": []
    },
    {
      "cell_type": "code",
      "source": [
        "x=df[[features for features in f_names if features!=target and features!='species']]\n",
        "y=df[target]"
      ],
      "metadata": {
        "id": "W8Wt1rn7oLqf"
      },
      "execution_count": 21,
      "outputs": []
    },
    {
      "cell_type": "code",
      "source": [],
      "metadata": {
        "id": "vpTKoKZpqy7a"
      },
      "execution_count": null,
      "outputs": []
    },
    {
      "cell_type": "code",
      "source": [
        "if data[\"train\"][\"policy\"] == \"Split the dataset\":\n",
        "    if data[\"train\"][\"split\"] == \"Randomly\":\n",
        "        X_train, X_test, y_train, y_test = train_test_split(x, y, test_size=0.33, random_state=data[\"train\"][\"random_seed\"])\n",
        "    else:\n",
        "        pass"
      ],
      "metadata": {
        "id": "0F1tXlTdtN6_"
      },
      "execution_count": 23,
      "outputs": []
    },
    {
      "cell_type": "code",
      "source": [
        "models"
      ],
      "metadata": {
        "colab": {
          "base_uri": "https://localhost:8080/"
        },
        "id": "71iJ9d9K18tg",
        "outputId": "b9130621-41a7-488d-ec2d-d31c070c89c0"
      },
      "execution_count": 10,
      "outputs": [
        {
          "output_type": "execute_result",
          "data": {
            "text/plain": [
              "[('Linear Regression', LinearRegression()),\n",
              " ('Random Forest Regressor', RandomForestRegressor()),\n",
              " ('Gradient Boosting Regressor', GradientBoostingRegressor()),\n",
              " ('Ridge Regression', Ridge()),\n",
              " ('Lasso Regresstion', Lasso()),\n",
              " ('Elastic Net Regression', ElasticNet()),\n",
              " ('XGB Regressor',\n",
              "  XGBRegressor(base_score=None, booster=None, callbacks=None,\n",
              "               colsample_bylevel=None, colsample_bynode=None,\n",
              "               colsample_bytree=None, early_stopping_rounds=None,\n",
              "               enable_categorical=False, eval_metric=None, feature_types=None,\n",
              "               gamma=None, gpu_id=None, grow_policy=None, importance_type=None,\n",
              "               interaction_constraints=None, learning_rate=None, max_bin=None,\n",
              "               max_cat_threshold=None, max_cat_to_onehot=None,\n",
              "               max_delta_step=None, max_depth=None, max_leaves=None,\n",
              "               min_child_weight=None, missing=nan, monotone_constraints=None,\n",
              "               n_estimators=100, n_jobs=None, num_parallel_tree=None,\n",
              "               predictor=None, random_state=None, ...)),\n",
              " ('Decision Tree Regressor', DecisionTreeRegressor())]"
            ]
          },
          "metadata": {},
          "execution_count": 10
        }
      ]
    },
    {
      "cell_type": "code",
      "source": [
        "for name, model in models:\n",
        "    pipeline = Pipeline(steps=[\n",
        "        (\"scaler\", StandardScaler()),\n",
        "        (\"model\", model)\n",
        "    ])\n",
        "    param_grid = model_param_grid.get(name)\n",
        "    grid = GridSearchCV(pipeline, param_grid=param_grid , cv=data[\"hyperparameters\"][\"num_of_folds\"], n_jobs=data[\"hyperparameters\"][\"parallelism\"])\n",
        "\n",
        "    grid.fit(X_train, y_train)\n",
        "    y_pred = grid.predict(X_test)\n",
        "    y_pred\n",
        "    print(classification_report(y_test, y_pred))\n"
      ],
      "metadata": {
        "id": "r7v6ZpxVFhLC"
      },
      "execution_count": 25,
      "outputs": []
    }
  ]
}